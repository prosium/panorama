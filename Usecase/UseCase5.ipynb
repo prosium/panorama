{
 "cells": [
  {
   "cell_type": "code",
   "execution_count": 1,
   "id": "808fd0ba-8650-449c-a874-08ed5a540ad3",
   "metadata": {},
   "outputs": [
    {
     "name": "stdout",
     "output_type": "stream",
     "text": [
      "shape: (1_467_848_550, 10)\n",
      "┌─────────┬─────────┬─────────┬─────────┬─────────┬─────────┬─────────┬─────────┬─────────┬────────┐\n",
      "│ UniqueI ┆ QueryTy ┆ Genenam ┆ DataLev ┆ DataTyp ┆ Targetn ┆ p_value ┆ Z_diffe ┆ FDR     ┆ Signed │\n",
      "│ D       ┆ pe      ┆ e       ┆ el      ┆ e       ┆ ame     ┆ ---     ┆ rence   ┆ ---     ┆ FDR    │\n",
      "│ ---     ┆ ---     ┆ ---     ┆ ---     ┆ ---     ┆ ---     ┆ f64     ┆ ---     ┆ f64     ┆ ---    │\n",
      "│ str     ┆ str     ┆ str     ┆ str     ┆ str     ┆ str     ┆         ┆ f64     ┆         ┆ f64    │\n",
      "╞═════════╪═════════╪═════════╪═════════╪═════════╪═════════╪═════════╪═════════╪═════════╪════════╡\n",
      "│ Validat ┆ Mutatio ┆ TP53    ┆ L1      ┆ Clinica ┆ OS      ┆ 0.00826 ┆ 1.39898 ┆ null    ┆ null   │\n",
      "│ ion_HNS ┆ n       ┆         ┆         ┆ l       ┆         ┆         ┆         ┆         ┆        │\n",
      "│ CC      ┆         ┆         ┆         ┆         ┆         ┆         ┆         ┆         ┆        │\n",
      "│ Validat ┆ Mutatio ┆ TP53    ┆ L1      ┆ Clinica ┆ PFS     ┆ 0.03772 ┆ 1.31038 ┆ null    ┆ null   │\n",
      "│ ion_HNS ┆ n       ┆         ┆         ┆ l       ┆         ┆ 4       ┆ 1       ┆         ┆        │\n",
      "│ CC      ┆         ┆         ┆         ┆         ┆         ┆         ┆         ┆         ┆        │\n",
      "│ Validat ┆ Mutatio ┆ TP53    ┆ L1      ┆ Clinica ┆ DFS     ┆ 0.82797 ┆ 1.06412 ┆ null    ┆ null   │\n",
      "│ ion_HNS ┆ n       ┆         ┆         ┆ l       ┆         ┆ 1       ┆ 7       ┆         ┆        │\n",
      "│ CC      ┆         ┆         ┆         ┆         ┆         ┆         ┆         ┆         ┆        │\n",
      "│ Validat ┆ Mutatio ┆ TP53    ┆ L1      ┆ Clinica ┆ DSS     ┆ 0.07947 ┆ 1.29081 ┆ null    ┆ null   │\n",
      "│ ion_HNS ┆ n       ┆         ┆         ┆ l       ┆         ┆ 9       ┆ 4       ┆         ┆        │\n",
      "│ CC      ┆         ┆         ┆         ┆         ┆         ┆         ┆         ┆         ┆        │\n",
      "│ Validat ┆ Mutatio ┆ TP53    ┆ L2      ┆ Transcr ┆ A1BG    ┆ 0.18333 ┆ 0.10322 ┆ 0.32186 ┆ 0.4923 │\n",
      "│ ion_HNS ┆ n       ┆         ┆         ┆ iptome  ┆         ┆ 1       ┆ 9       ┆ 4       ┆ 28     │\n",
      "│ CC      ┆         ┆         ┆         ┆         ┆         ┆         ┆         ┆         ┆        │\n",
      "│ …       ┆ …       ┆ …       ┆ …       ┆ …       ┆ …       ┆ …       ┆ …       ┆ …       ┆ …      │\n",
      "│ Discove ┆ Mutatio ┆ C2CD2   ┆ L4      ┆ Progeny ┆ TGFb    ┆ 0.26676 ┆ -0.4158 ┆ 0.72876 ┆ -0.137 │\n",
      "│ ry_UCEC ┆ n       ┆         ┆         ┆ _Protei ┆         ┆ 2       ┆ 33      ┆         ┆ 415    │\n",
      "│         ┆         ┆         ┆         ┆ n       ┆         ┆         ┆         ┆         ┆        │\n",
      "│ Discove ┆ Mutatio ┆ C2CD2   ┆ L4      ┆ Progeny ┆ TNFa    ┆ 0.23934 ┆ -0.3263 ┆ 0.72876 ┆ -0.137 │\n",
      "│ ry_UCEC ┆ n       ┆         ┆         ┆ _Protei ┆         ┆ 9       ┆ 89      ┆         ┆ 415    │\n",
      "│         ┆         ┆         ┆         ┆ n       ┆         ┆         ┆         ┆         ┆        │\n",
      "│ Discove ┆ Mutatio ┆ C2CD2   ┆ L4      ┆ Progeny ┆ Trail   ┆ 0.60601 ┆ -0.3248 ┆ 0.72876 ┆ -0.137 │\n",
      "│ ry_UCEC ┆ n       ┆         ┆         ┆ _Protei ┆         ┆ 1       ┆ 75      ┆         ┆ 415    │\n",
      "│         ┆         ┆         ┆         ┆ n       ┆         ┆         ┆         ┆         ┆        │\n",
      "│ Discove ┆ Mutatio ┆ C2CD2   ┆ L4      ┆ Progeny ┆ VEGF    ┆ 0.67099 ┆ -0.1457 ┆ 0.72876 ┆ -0.137 │\n",
      "│ ry_UCEC ┆ n       ┆         ┆         ┆ _Protei ┆         ┆ 7       ┆ 61      ┆         ┆ 415    │\n",
      "│         ┆         ┆         ┆         ┆ n       ┆         ┆         ┆         ┆         ┆        │\n",
      "│ Discove ┆ Mutatio ┆ C2CD2   ┆ L4      ┆ Progeny ┆ WNT     ┆ 0.48065 ┆ -0.4039 ┆ 0.72876 ┆ -0.137 │\n",
      "│ ry_UCEC ┆ n       ┆         ┆         ┆ _Protei ┆         ┆ 9       ┆ 58      ┆         ┆ 415    │\n",
      "│         ┆         ┆         ┆         ┆ n       ┆         ┆         ┆         ┆         ┆        │\n",
      "└─────────┴─────────┴─────────┴─────────┴─────────┴─────────┴─────────┴─────────┴─────────┴────────┘\n"
     ]
    }
   ],
   "source": [
    "import polars as pl\n",
    "pl.Config.set_tbl_cols(100)\n",
    "df = pl.read_parquet(\"results_final/AllGAID2.parquet\")\n",
    "print(df)"
   ]
  },
  {
   "cell_type": "code",
   "execution_count": 2,
   "id": "83c09085-1926-41c7-825c-d04c276a65fd",
   "metadata": {},
   "outputs": [
    {
     "data": {
      "text/html": [
       "<div><style>\n",
       ".dataframe > thead > tr,\n",
       ".dataframe > tbody > tr {\n",
       "  text-align: right;\n",
       "  white-space: pre-wrap;\n",
       "}\n",
       "</style>\n",
       "<small>shape: (7_152_500, 10)</small><table border=\"1\" class=\"dataframe\"><thead><tr><th>UniqueID</th><th>QueryType</th><th>Genename</th><th>DataLevel</th><th>DataType</th><th>Targetname</th><th>p_value</th><th>Z_difference</th><th>FDR</th><th>SignedFDR</th></tr><tr><td>str</td><td>str</td><td>str</td><td>str</td><td>str</td><td>str</td><td>f64</td><td>f64</td><td>f64</td><td>f64</td></tr></thead><tbody><tr><td>&quot;Validation_HNSCC&quot;</td><td>&quot;Mutation&quot;</td><td>&quot;TP53&quot;</td><td>&quot;L4&quot;</td><td>&quot;HALLMARK_RNA&quot;</td><td>&quot;HALLMARK_TNFA_SIGNALING_VIA_NF…</td><td>0.308318</td><td>0.106752</td><td>0.39972</td><td>0.398244</td></tr><tr><td>&quot;Validation_HNSCC&quot;</td><td>&quot;Mutation&quot;</td><td>&quot;TP53&quot;</td><td>&quot;L4&quot;</td><td>&quot;HALLMARK_RNA&quot;</td><td>&quot;HALLMARK_HYPOXIA&quot;</td><td>0.003269</td><td>0.293378</td><td>0.010088</td><td>1.996201</td></tr><tr><td>&quot;Validation_HNSCC&quot;</td><td>&quot;Mutation&quot;</td><td>&quot;TP53&quot;</td><td>&quot;L4&quot;</td><td>&quot;HALLMARK_RNA&quot;</td><td>&quot;HALLMARK_CHOLESTEROL_HOMEOSTAS…</td><td>0.424892</td><td>0.084634</td><td>0.526717</td><td>0.278423</td></tr><tr><td>&quot;Validation_HNSCC&quot;</td><td>&quot;Mutation&quot;</td><td>&quot;TP53&quot;</td><td>&quot;L4&quot;</td><td>&quot;HALLMARK_RNA&quot;</td><td>&quot;HALLMARK_MITOTIC_SPINDLE&quot;</td><td>0.022682</td><td>-0.230793</td><td>0.054005</td><td>-1.267568</td></tr><tr><td>&quot;Validation_HNSCC&quot;</td><td>&quot;Mutation&quot;</td><td>&quot;TP53&quot;</td><td>&quot;L4&quot;</td><td>&quot;HALLMARK_RNA&quot;</td><td>&quot;HALLMARK_WNT_BETA_CATENIN_SIGN…</td><td>0.002633</td><td>0.297981</td><td>0.009403</td><td>2.026749</td></tr><tr><td>&hellip;</td><td>&hellip;</td><td>&hellip;</td><td>&hellip;</td><td>&hellip;</td><td>&hellip;</td><td>&hellip;</td><td>&hellip;</td><td>&hellip;</td><td>&hellip;</td></tr><tr><td>&quot;Discovery_UCEC&quot;</td><td>&quot;Mutation&quot;</td><td>&quot;C2CD2&quot;</td><td>&quot;L4&quot;</td><td>&quot;Progeny_Protein&quot;</td><td>&quot;TGFb&quot;</td><td>0.266762</td><td>-0.415833</td><td>0.72876</td><td>-0.137415</td></tr><tr><td>&quot;Discovery_UCEC&quot;</td><td>&quot;Mutation&quot;</td><td>&quot;C2CD2&quot;</td><td>&quot;L4&quot;</td><td>&quot;Progeny_Protein&quot;</td><td>&quot;TNFa&quot;</td><td>0.239349</td><td>-0.326389</td><td>0.72876</td><td>-0.137415</td></tr><tr><td>&quot;Discovery_UCEC&quot;</td><td>&quot;Mutation&quot;</td><td>&quot;C2CD2&quot;</td><td>&quot;L4&quot;</td><td>&quot;Progeny_Protein&quot;</td><td>&quot;Trail&quot;</td><td>0.606011</td><td>-0.324875</td><td>0.72876</td><td>-0.137415</td></tr><tr><td>&quot;Discovery_UCEC&quot;</td><td>&quot;Mutation&quot;</td><td>&quot;C2CD2&quot;</td><td>&quot;L4&quot;</td><td>&quot;Progeny_Protein&quot;</td><td>&quot;VEGF&quot;</td><td>0.670997</td><td>-0.145761</td><td>0.72876</td><td>-0.137415</td></tr><tr><td>&quot;Discovery_UCEC&quot;</td><td>&quot;Mutation&quot;</td><td>&quot;C2CD2&quot;</td><td>&quot;L4&quot;</td><td>&quot;Progeny_Protein&quot;</td><td>&quot;WNT&quot;</td><td>0.480659</td><td>-0.403958</td><td>0.72876</td><td>-0.137415</td></tr></tbody></table></div>"
      ],
      "text/plain": [
       "shape: (7_152_500, 10)\n",
       "┌─────────┬─────────┬─────────┬─────────┬─────────┬─────────┬─────────┬─────────┬─────────┬────────┐\n",
       "│ UniqueI ┆ QueryTy ┆ Genenam ┆ DataLev ┆ DataTyp ┆ Targetn ┆ p_value ┆ Z_diffe ┆ FDR     ┆ Signed │\n",
       "│ D       ┆ pe      ┆ e       ┆ el      ┆ e       ┆ ame     ┆ ---     ┆ rence   ┆ ---     ┆ FDR    │\n",
       "│ ---     ┆ ---     ┆ ---     ┆ ---     ┆ ---     ┆ ---     ┆ f64     ┆ ---     ┆ f64     ┆ ---    │\n",
       "│ str     ┆ str     ┆ str     ┆ str     ┆ str     ┆ str     ┆         ┆ f64     ┆         ┆ f64    │\n",
       "╞═════════╪═════════╪═════════╪═════════╪═════════╪═════════╪═════════╪═════════╪═════════╪════════╡\n",
       "│ Validat ┆ Mutatio ┆ TP53    ┆ L4      ┆ HALLMAR ┆ HALLMAR ┆ 0.30831 ┆ 0.10675 ┆ 0.39972 ┆ 0.3982 │\n",
       "│ ion_HNS ┆ n       ┆         ┆         ┆ K_RNA   ┆ K_TNFA_ ┆ 8       ┆ 2       ┆         ┆ 44     │\n",
       "│ CC      ┆         ┆         ┆         ┆         ┆ SIGNALI ┆         ┆         ┆         ┆        │\n",
       "│         ┆         ┆         ┆         ┆         ┆ NG_VIA_ ┆         ┆         ┆         ┆        │\n",
       "│         ┆         ┆         ┆         ┆         ┆ NF…     ┆         ┆         ┆         ┆        │\n",
       "│ Validat ┆ Mutatio ┆ TP53    ┆ L4      ┆ HALLMAR ┆ HALLMAR ┆ 0.00326 ┆ 0.29337 ┆ 0.01008 ┆ 1.9962 │\n",
       "│ ion_HNS ┆ n       ┆         ┆         ┆ K_RNA   ┆ K_HYPOX ┆ 9       ┆ 8       ┆ 8       ┆ 01     │\n",
       "│ CC      ┆         ┆         ┆         ┆         ┆ IA      ┆         ┆         ┆         ┆        │\n",
       "│ Validat ┆ Mutatio ┆ TP53    ┆ L4      ┆ HALLMAR ┆ HALLMAR ┆ 0.42489 ┆ 0.08463 ┆ 0.52671 ┆ 0.2784 │\n",
       "│ ion_HNS ┆ n       ┆         ┆         ┆ K_RNA   ┆ K_CHOLE ┆ 2       ┆ 4       ┆ 7       ┆ 23     │\n",
       "│ CC      ┆         ┆         ┆         ┆         ┆ STEROL_ ┆         ┆         ┆         ┆        │\n",
       "│         ┆         ┆         ┆         ┆         ┆ HOMEOST ┆         ┆         ┆         ┆        │\n",
       "│         ┆         ┆         ┆         ┆         ┆ AS…     ┆         ┆         ┆         ┆        │\n",
       "│ Validat ┆ Mutatio ┆ TP53    ┆ L4      ┆ HALLMAR ┆ HALLMAR ┆ 0.02268 ┆ -0.2307 ┆ 0.05400 ┆ -1.267 │\n",
       "│ ion_HNS ┆ n       ┆         ┆         ┆ K_RNA   ┆ K_MITOT ┆ 2       ┆ 93      ┆ 5       ┆ 568    │\n",
       "│ CC      ┆         ┆         ┆         ┆         ┆ IC_SPIN ┆         ┆         ┆         ┆        │\n",
       "│         ┆         ┆         ┆         ┆         ┆ DLE     ┆         ┆         ┆         ┆        │\n",
       "│ Validat ┆ Mutatio ┆ TP53    ┆ L4      ┆ HALLMAR ┆ HALLMAR ┆ 0.00263 ┆ 0.29798 ┆ 0.00940 ┆ 2.0267 │\n",
       "│ ion_HNS ┆ n       ┆         ┆         ┆ K_RNA   ┆ K_WNT_B ┆ 3       ┆ 1       ┆ 3       ┆ 49     │\n",
       "│ CC      ┆         ┆         ┆         ┆         ┆ ETA_CAT ┆         ┆         ┆         ┆        │\n",
       "│         ┆         ┆         ┆         ┆         ┆ ENIN_SI ┆         ┆         ┆         ┆        │\n",
       "│         ┆         ┆         ┆         ┆         ┆ GN…     ┆         ┆         ┆         ┆        │\n",
       "│ …       ┆ …       ┆ …       ┆ …       ┆ …       ┆ …       ┆ …       ┆ …       ┆ …       ┆ …      │\n",
       "│ Discove ┆ Mutatio ┆ C2CD2   ┆ L4      ┆ Progeny ┆ TGFb    ┆ 0.26676 ┆ -0.4158 ┆ 0.72876 ┆ -0.137 │\n",
       "│ ry_UCEC ┆ n       ┆         ┆         ┆ _Protei ┆         ┆ 2       ┆ 33      ┆         ┆ 415    │\n",
       "│         ┆         ┆         ┆         ┆ n       ┆         ┆         ┆         ┆         ┆        │\n",
       "│ Discove ┆ Mutatio ┆ C2CD2   ┆ L4      ┆ Progeny ┆ TNFa    ┆ 0.23934 ┆ -0.3263 ┆ 0.72876 ┆ -0.137 │\n",
       "│ ry_UCEC ┆ n       ┆         ┆         ┆ _Protei ┆         ┆ 9       ┆ 89      ┆         ┆ 415    │\n",
       "│         ┆         ┆         ┆         ┆ n       ┆         ┆         ┆         ┆         ┆        │\n",
       "│ Discove ┆ Mutatio ┆ C2CD2   ┆ L4      ┆ Progeny ┆ Trail   ┆ 0.60601 ┆ -0.3248 ┆ 0.72876 ┆ -0.137 │\n",
       "│ ry_UCEC ┆ n       ┆         ┆         ┆ _Protei ┆         ┆ 1       ┆ 75      ┆         ┆ 415    │\n",
       "│         ┆         ┆         ┆         ┆ n       ┆         ┆         ┆         ┆         ┆        │\n",
       "│ Discove ┆ Mutatio ┆ C2CD2   ┆ L4      ┆ Progeny ┆ VEGF    ┆ 0.67099 ┆ -0.1457 ┆ 0.72876 ┆ -0.137 │\n",
       "│ ry_UCEC ┆ n       ┆         ┆         ┆ _Protei ┆         ┆ 7       ┆ 61      ┆         ┆ 415    │\n",
       "│         ┆         ┆         ┆         ┆ n       ┆         ┆         ┆         ┆         ┆        │\n",
       "│ Discove ┆ Mutatio ┆ C2CD2   ┆ L4      ┆ Progeny ┆ WNT     ┆ 0.48065 ┆ -0.4039 ┆ 0.72876 ┆ -0.137 │\n",
       "│ ry_UCEC ┆ n       ┆         ┆         ┆ _Protei ┆         ┆ 9       ┆ 58      ┆         ┆ 415    │\n",
       "│         ┆         ┆         ┆         ┆ n       ┆         ┆         ┆         ┆         ┆        │\n",
       "└─────────┴─────────┴─────────┴─────────┴─────────┴─────────┴─────────┴─────────┴─────────┴────────┘"
      ]
     },
     "execution_count": 2,
     "metadata": {},
     "output_type": "execute_result"
    }
   ],
   "source": [
    "df_filtered = df.filter( (pl.col('DataLevel') == 'L4'))\n",
    "df_filtered"
   ]
  },
  {
   "cell_type": "code",
   "execution_count": 5,
   "id": "015f8976-48c8-4e30-885a-48464ea39174",
   "metadata": {},
   "outputs": [
    {
     "name": "stdout",
     "output_type": "stream",
     "text": [
      "shape: (829_300, 6)\n",
      "┌─────────────────┬──────────┬──────────────────┬────────────────────────┬──────────────┬──────────┐\n",
      "│ UniqueID        ┆ Genename ┆ DataType         ┆ Targetname             ┆ Z_difference ┆ FDR      │\n",
      "│ ---             ┆ ---      ┆ ---              ┆ ---                    ┆ ---          ┆ ---      │\n",
      "│ str             ┆ str      ┆ str              ┆ str                    ┆ f64          ┆ f64      │\n",
      "╞═════════════════╪══════════╪══════════════════╪════════════════════════╪══════════════╪══════════╡\n",
      "│ Discovery_LUAD1 ┆ LMX1A    ┆ HALLMARK_RNA     ┆ HALLMARK_TNFA_SIGNALIN ┆ -0.108453    ┆ 0.98082  │\n",
      "│                 ┆          ┆                  ┆ G_VIA_NF…              ┆              ┆          │\n",
      "│ Discovery_LUAD1 ┆ LMX1A    ┆ HALLMARK_RNA     ┆ HALLMARK_HYPOXIA       ┆ 0.105514     ┆ 0.969152 │\n",
      "│ Discovery_LUAD1 ┆ LMX1A    ┆ HALLMARK_RNA     ┆ HALLMARK_CHOLESTEROL_H ┆ -0.731577    ┆ 0.422283 │\n",
      "│                 ┆          ┆                  ┆ OMEOSTAS…              ┆              ┆          │\n",
      "│ Discovery_LUAD1 ┆ LMX1A    ┆ HALLMARK_RNA     ┆ HALLMARK_MITOTIC_SPIND ┆ 0.520759     ┆ 0.736569 │\n",
      "│                 ┆          ┆                  ┆ LE                     ┆              ┆          │\n",
      "│ Discovery_LUAD1 ┆ LMX1A    ┆ HALLMARK_RNA     ┆ HALLMARK_WNT_BETA_CATE ┆ 0.084267     ┆ 0.979076 │\n",
      "│                 ┆          ┆                  ┆ NIN_SIGN…              ┆              ┆          │\n",
      "│ …               ┆ …        ┆ …                ┆ …                      ┆ …            ┆ …        │\n",
      "│ Discovery_UCEC  ┆ C2CD2    ┆ HALLMARK_Protein ┆ HALLMARK_ALLOGRAFT_REJ ┆ -0.012234    ┆ 0.997937 │\n",
      "│                 ┆          ┆                  ┆ ECTION                 ┆              ┆          │\n",
      "│ Discovery_UCEC  ┆ C2CD2    ┆ HALLMARK_Protein ┆ HALLMARK_SPERMATOGENES ┆ 0.578351     ┆ 0.979479 │\n",
      "│                 ┆          ┆                  ┆ IS                     ┆              ┆          │\n",
      "│ Discovery_UCEC  ┆ C2CD2    ┆ HALLMARK_Protein ┆ HALLMARK_KRAS_SIGNALIN ┆ -0.611957    ┆ 0.757066 │\n",
      "│                 ┆          ┆                  ┆ G_UP                   ┆              ┆          │\n",
      "│ Discovery_UCEC  ┆ C2CD2    ┆ HALLMARK_Protein ┆ HALLMARK_KRAS_SIGNALIN ┆ -0.354071    ┆ 0.979479 │\n",
      "│                 ┆          ┆                  ┆ G_DN                   ┆              ┆          │\n",
      "│ Discovery_UCEC  ┆ C2CD2    ┆ HALLMARK_Protein ┆ HALLMARK_PANCREAS_BETA ┆ -0.471266    ┆ 0.979479 │\n",
      "│                 ┆          ┆                  ┆ _CELLS                 ┆              ┆          │\n",
      "└─────────────────┴──────────┴──────────────────┴────────────────────────┴──────────────┴──────────┘\n",
      "shape: (336_950, 6)\n",
      "┌──────────────────┬──────────┬──────────────┬───────────────────────────┬──────────────┬──────────┐\n",
      "│ UniqueID         ┆ Genename ┆ DataType     ┆ Targetname                ┆ Z_difference ┆ FDR      │\n",
      "│ ---              ┆ ---      ┆ ---          ┆ ---                       ┆ ---          ┆ ---      │\n",
      "│ str              ┆ str      ┆ str          ┆ str                       ┆ f64          ┆ f64      │\n",
      "╞══════════════════╪══════════╪══════════════╪═══════════════════════════╪══════════════╪══════════╡\n",
      "│ Validation_HNSCC ┆ TP53     ┆ HALLMARK_RNA ┆ HALLMARK_TNFA_SIGNALING_V ┆ 0.106752     ┆ 0.39972  │\n",
      "│                  ┆          ┆              ┆ IA_NF…                    ┆              ┆          │\n",
      "│ Validation_HNSCC ┆ TP53     ┆ HALLMARK_RNA ┆ HALLMARK_HYPOXIA          ┆ 0.293378     ┆ 0.010088 │\n",
      "│ Validation_HNSCC ┆ TP53     ┆ HALLMARK_RNA ┆ HALLMARK_CHOLESTEROL_HOME ┆ 0.084634     ┆ 0.526717 │\n",
      "│                  ┆          ┆              ┆ OSTAS…                    ┆              ┆          │\n",
      "│ Validation_HNSCC ┆ TP53     ┆ HALLMARK_RNA ┆ HALLMARK_MITOTIC_SPINDLE  ┆ -0.230793    ┆ 0.054005 │\n",
      "│ Validation_HNSCC ┆ TP53     ┆ HALLMARK_RNA ┆ HALLMARK_WNT_BETA_CATENIN ┆ 0.297981     ┆ 0.009403 │\n",
      "│                  ┆          ┆              ┆ _SIGN…                    ┆              ┆          │\n",
      "│ …                ┆ …        ┆ …            ┆ …                         ┆ …            ┆ …        │\n",
      "│ Validation_UC    ┆ MTBP     ┆ HALLMARK_RNA ┆ HALLMARK_ALLOGRAFT_REJECT ┆ 0.246665     ┆ 0.876676 │\n",
      "│                  ┆          ┆              ┆ ION                       ┆              ┆          │\n",
      "│ Validation_UC    ┆ MTBP     ┆ HALLMARK_RNA ┆ HALLMARK_SPERMATOGENESIS  ┆ -0.482615    ┆ 0.876676 │\n",
      "│ Validation_UC    ┆ MTBP     ┆ HALLMARK_RNA ┆ HALLMARK_KRAS_SIGNALING_U ┆ 0.586323     ┆ 0.876676 │\n",
      "│                  ┆          ┆              ┆ P                         ┆              ┆          │\n",
      "│ Validation_UC    ┆ MTBP     ┆ HALLMARK_RNA ┆ HALLMARK_KRAS_SIGNALING_D ┆ -0.608944    ┆ 0.876676 │\n",
      "│                  ┆          ┆              ┆ N                         ┆              ┆          │\n",
      "│ Validation_UC    ┆ MTBP     ┆ HALLMARK_RNA ┆ HALLMARK_PANCREAS_BETA_CE ┆ 0.096297     ┆ 0.92915  │\n",
      "│                  ┆          ┆              ┆ LLS                       ┆              ┆          │\n",
      "└──────────────────┴──────────┴──────────────┴───────────────────────────┴──────────────┴──────────┘\n"
     ]
    }
   ],
   "source": [
    "df_discovery = df_filtered.filter(\n",
    "    (pl.col('UniqueID').str.contains('^Discovery')) & \n",
    "    (pl.col('p_value').is_not_null()) &\n",
    "    (pl.col(\"DataType\").str.starts_with(\"HALLMARK\"))\n",
    ").drop(['QueryType', 'DataLevel', 'p_value', 'SignedFDR'])\n",
    "\n",
    "df_validation = df_filtered.filter(\n",
    "    (pl.col('UniqueID').str.contains('^Validation')) & \n",
    "    (pl.col('p_value').is_not_null()) &\n",
    "    (pl.col(\"DataType\").str.starts_with(\"HALLMARK\"))\n",
    ").drop(['QueryType', 'DataLevel', 'p_value', 'SignedFDR'])\n",
    "\n",
    "print(df_discovery)\n",
    "print(df_validation)"
   ]
  },
  {
   "cell_type": "code",
   "execution_count": 6,
   "id": "ac6c7fe6-0715-44e4-b918-1fbe6013f82f",
   "metadata": {},
   "outputs": [],
   "source": [
    "df_discovery.write_csv(\"case5_disco.csv\")\n",
    "df_validation.write_csv(\"case5_valid.csv\")"
   ]
  },
  {
   "cell_type": "code",
   "execution_count": null,
   "id": "cd08c7cc-5ce3-4cb4-adda-c90da9ee9ed1",
   "metadata": {},
   "outputs": [],
   "source": []
  }
 ],
 "metadata": {
  "kernelspec": {
   "display_name": "Python 3 (ipykernel)",
   "language": "python",
   "name": "python3"
  },
  "language_info": {
   "codemirror_mode": {
    "name": "ipython",
    "version": 3
   },
   "file_extension": ".py",
   "mimetype": "text/x-python",
   "name": "python",
   "nbconvert_exporter": "python",
   "pygments_lexer": "ipython3",
   "version": "3.10.16"
  }
 },
 "nbformat": 4,
 "nbformat_minor": 5
}
